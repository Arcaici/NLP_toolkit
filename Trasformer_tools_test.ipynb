{
 "cells": [
  {
   "cell_type": "code",
   "execution_count": 16,
   "id": "891cdb5a",
   "metadata": {},
   "outputs": [],
   "source": [
    "import time\n",
    "import numpy as np\n",
    "import pandas as pd\n",
    "from datasets import ClassLabel, Dataset, DatasetDict, concatenate_datasets\n",
    "from matplotlib import pyplot as plt\n",
    "from sklearn.preprocessing import MinMaxScaler\n",
    "from transformers import AutoModel, AutoTokenizer, AutoModelForSeq2SeqLM\n",
    "import torch\n",
    "from sklearn.metrics import log_loss\n",
    "#from umap import UMAP"
   ]
  },
  {
   "cell_type": "code",
   "execution_count": 17,
   "id": "94b9e74a",
   "metadata": {},
   "outputs": [],
   "source": [
    "def plot_number_of_features(text_column):\n",
    "    # this function plot a subplot compose of 2 barchart, where each barchart show the distribution of\n",
    "    # token number of text feature respect to bert and pegasus token techniques\n",
    "\n",
    "    model_bert = \"nlpaueb/legal-bert-small-uncased\"\n",
    "    tokenizer_bert = AutoTokenizer.from_pretrained(model_bert)\n",
    "    model_pegasus = \"nsi319/legal-pegasus\"\n",
    "    tokenizer_pegasus = AutoTokenizer.from_pretrained(model_pegasus)\n",
    "\n",
    "    # plotting sentences lenghth distribution (in terms of token)\n",
    "    bert_len = [len(tokenizer_bert.encode(s)) for s in text_column]\n",
    "    pagasus_len = [len(tokenizer_pegasus.encode(s)) for s in text_column]\n",
    "\n",
    "    fig, axes = plt.subplots(1, 2, figsize=(10, 3.5), sharey=True)\n",
    "    axes[0].hist(bert_len, bins=100, color=\"C0\", edgecolor=\"C0\")\n",
    "    axes[0].axvline(x=512, ymin=0, ymax=1, linestyle=\"--\", color=\"C1\",\n",
    "               label=\"Maximum sequence length\")\n",
    "    axes[0].set_title(\"Bert Token Length\")\n",
    "    axes[0].set_xlabel(\"Length\")\n",
    "    axes[0].set_ylabel(\"Count\")\n",
    "    axes[1].hist(pagasus_len, bins=100, color=\"C0\", edgecolor=\"C0\")\n",
    "    axes[1].axvline(x=1024, ymin=0, ymax=1, linestyle=\"--\", color=\"C1\",\n",
    "                    label=\"Maximum sequence length\")\n",
    "    axes[1].set_title(\"Pegasus Token Length\")\n",
    "    axes[1].set_xlabel(\"Length\")\n",
    "    plt.tight_layout()\n",
    "    plt.show()\n",
    "\n",
    "#Loading Dataset\n",
    "df = pd.read_csv(\"./datasets/legal_text_classification.csv\")"
   ]
  },
  {
   "cell_type": "code",
   "execution_count": 3,
   "id": "1e7c9381",
   "metadata": {},
   "outputs": [
    {
     "name": "stderr",
     "output_type": "stream",
     "text": [
      "Token indices sequence length is longer than the specified maximum sequence length for this model (660 > 512). Running this sequence through the model will result in indexing errors\n"
     ]
    },
    {
     "data": {
      "application/vnd.jupyter.widget-view+json": {
       "model_id": "",
       "version_major": 2,
       "version_minor": 0
      },
      "text/plain": [
       "Map:   0%|          | 0/24809 [00:00<?, ? examples/s]"
      ]
     },
     "metadata": {},
     "output_type": "display_data"
    },
    {
     "name": "stderr",
     "output_type": "stream",
     "text": [
      "Token indices sequence length is longer than the specified maximum sequence length for this model (980 > 512). Running this sequence through the model will result in indexing errors\n",
      "Token indices sequence length is longer than the specified maximum sequence length for this model (1561 > 1024). Running this sequence through the model will result in indexing errors\n"
     ]
    },
    {
     "data": {
      "image/png": "[encoded data removed]",
      "text/plain": [
       "<Figure size 1000x350 with 2 Axes>"
      ]
     },
     "metadata": {},
     "output_type": "display_data"
    }
   ],
   "source": [
    "def preprocess_data(df):\n",
    "    #adding token_lenght column\n",
    "    df[\"lb_num_token\"] = d_len\n",
    "    \n",
    "    #Dropping Nan values\n",
    "    df = df.dropna(subset=['case_text'])\n",
    "\n",
    "    # Dropping unused features and renaming columns\n",
    "    df = df.drop(columns =['case_id', 'case_title'])\n",
    "    df.rename(columns={\"case_text\":\"text\", \"case_outcome\":\"label\"}, inplace= True)\n",
    "\n",
    "    # Get the number of unique labels\n",
    "    labels_list = df[\"label\"].unique().tolist()\n",
    "    \n",
    "    # Splitting Dataset\n",
    "    df = Dataset.from_pandas(df)\n",
    "    df = df.map(lambda example: {'text': str(example['text'])})\n",
    "    train_valid = df.train_test_split(test_size= 0.2, seed= 42)\n",
    "    valid_test  = train_valid[\"test\"].train_test_split(test_size= 0.5, seed= 42)\n",
    "    \n",
    "    df_split = DatasetDict({\n",
    "    'train': train_valid['train'],\n",
    "    'valid': valid_test['train'],\n",
    "    'test': valid_test['test']\n",
    "    })\n",
    "    \n",
    "    return df_split, labels_list\n",
    "\n",
    "# number of bert token for each sample\n",
    "model_ckpt = \"nlpaueb/legal-bert-small-uncased\"\n",
    "tokenizer = AutoTokenizer.from_pretrained(model_ckpt)  \n",
    "d_len = [len(tokenizer.encode(str(s))) for s in df[\"case_text\"]]\n",
    "\n",
    "# preprocessing dataset\n",
    "df, labels_list = preprocess_data(df)\n",
    "\n",
    "\n",
    "plot_number_of_features(df[\"train\"][\"text\"])\n",
    "\n",
    "train = Dataset.from_dict(df[\"train\"][0:9])\n",
    "valid = Dataset.from_dict(df[\"valid\"][0:9])\n"
   ]
  },
  {
   "cell_type": "code",
   "execution_count": 4,
   "id": "e72039c7",
   "metadata": {},
   "outputs": [],
   "source": [
    "def pegasus_summary(batch_samples, model, tokenizer):\n",
    "    # This function take in input a batch of samples and return the summary of each sample.\n",
    "    # The summary length is set to 400 token length, because the output summary will be used as bert tokenizer input\n",
    "    # LLM used: legal-pegasus\n",
    "    # It will be better to call this function with model anf tokenizer already define inside the main code\n",
    "\n",
    "    summary = \"\"\n",
    "    # summary\n",
    "    input_tokenized = tokenizer.encode(batch_samples[\"text\"], return_tensors='pt', max_length=1024, truncation=True).to(device)\n",
    "    with torch.no_grad():\n",
    "        summary_ids = model.generate(input_tokenized,\n",
    "                                     num_beams=9,\n",
    "                                     no_repeat_ngram_size=3,\n",
    "                                     length_penalty=2.0,\n",
    "                                     min_length=150,\n",
    "                                     max_length=400,\n",
    "                                     early_stopping=True)\n",
    "\n",
    "    summary = [tokenizer.decode(g, skip_special_tokens=True, clean_up_tokenization_spaces=False) for g in summary_ids][0]\n",
    "    return {\"text\": summary}"
   ]
  },
  {
   "cell_type": "code",
   "execution_count": 5,
   "id": "da44cbef",
   "metadata": {},
   "outputs": [
    {
     "data": {
      "application/vnd.jupyter.widget-view+json": {
       "model_id": "",
       "version_major": 2,
       "version_minor": 0
      },
      "text/plain": [
       "Filter:   0%|          | 0/9 [00:00<?, ? examples/s]"
      ]
     },
     "metadata": {},
     "output_type": "display_data"
    },
    {
     "data": {
      "application/vnd.jupyter.widget-view+json": {
       "model_id": "",
       "version_major": 2,
       "version_minor": 0
      },
      "text/plain": [
       "Filter:   0%|          | 0/9 [00:00<?, ? examples/s]"
      ]
     },
     "metadata": {},
     "output_type": "display_data"
    },
    {
     "data": {
      "application/vnd.jupyter.widget-view+json": {
       "model_id": "",
       "version_major": 2,
       "version_minor": 0
      },
      "text/plain": [
       "Map:   0%|          | 0/3 [00:00<?, ? examples/s]"
      ]
     },
     "metadata": {},
     "output_type": "display_data"
    },
    {
     "data": {
      "application/vnd.jupyter.widget-view+json": {
       "model_id": "",
       "version_major": 2,
       "version_minor": 0
      },
      "text/plain": [
       "Filter:   0%|          | 0/9 [00:00<?, ? examples/s]"
      ]
     },
     "metadata": {},
     "output_type": "display_data"
    },
    {
     "data": {
      "application/vnd.jupyter.widget-view+json": {
       "model_id": "",
       "version_major": 2,
       "version_minor": 0
      },
      "text/plain": [
       "Filter:   0%|          | 0/9 [00:00<?, ? examples/s]"
      ]
     },
     "metadata": {},
     "output_type": "display_data"
    },
    {
     "data": {
      "application/vnd.jupyter.widget-view+json": {
       "model_id": "",
       "version_major": 2,
       "version_minor": 0
      },
      "text/plain": [
       "Map:   0%|          | 0/2 [00:00<?, ? examples/s]"
      ]
     },
     "metadata": {},
     "output_type": "display_data"
    }
   ],
   "source": [
    "def summarizing_samples(df):\n",
    "    model_ckpt_sum = \"nsi319/legal-pegasus\"\n",
    "    tokenizer_sum = AutoTokenizer.from_pretrained(model_ckpt_sum)\n",
    "    model_sum = AutoModelForSeq2SeqLM.from_pretrained(model_ckpt_sum).to(device)\n",
    "    \n",
    "    df_long = df.filter(lambda example: example[\"lb_num_token\"] > 512)\n",
    "    df_short= df.filter(lambda example: example[\"lb_num_token\"] <= 512)\n",
    "\n",
    "    df_long = df_long.map(lambda example: pegasus_summary(example, model_sum, tokenizer_sum), batched = False)\n",
    "                                                                                          \n",
    "    df = concatenate_datasets([df_long, df_short])\n",
    "    return df\n",
    "\n",
    "device = \"cuda\" if torch.cuda.is_available() else \"cpu\"\n",
    "train = summarizing_samples(train)\n",
    "valid = summarizing_samples(valid)"
   ]
  },
  {
   "cell_type": "code",
   "execution_count": 6,
   "id": "82857fbf",
   "metadata": {},
   "outputs": [],
   "source": [
    "def bert_hidden_state(batch_samples, labels_list):\n",
    "    # This function take in input a batch of samples and return the last hidden layer of bert.\n",
    "    # Each example is first tokenized and then is give to bert for extract the last hidden layer\n",
    "    # for use it as features of the final model.\n",
    "    # LLM used: legal-bert-small-uncased\n",
    "    # It will be better to call this function with model anf tokenizer already define inside the main code\n",
    "\n",
    "\n",
    "    # Transformer settings\n",
    "    device = torch.device(\"cuda\" if torch.cuda.is_available() else \"cpu\")\n",
    "    model_ckpt = 'nlpaueb/legal-bert-small-uncased'\n",
    "\n",
    "    # Loading model and tokenizer\n",
    "    tokenizer = AutoTokenizer.from_pretrained(model_ckpt)\n",
    "    model = AutoModel.from_pretrained(model_ckpt, num_labels=len(labels_list)).to(device)\n",
    "\n",
    "    print(\"GPU memory allocated before tokenization\", torch.cuda.memory_allocated() / (1024 ** 3))\n",
    "\n",
    "    # tokenizing samples\n",
    "    def tokenization(batch):\n",
    "        # tokenize text\n",
    "        tokenized_sample = tokenizer(batch[\"text\"], padding=True, truncation=True, max_length=512,\n",
    "                                     return_tensors=\"pt\").to(device)\n",
    "\n",
    "        # encode label\n",
    "        labels = ClassLabel(names=labels_list)\n",
    "        tokenized_sample[\"label\"] = labels.str2int(batch[\"label\"])\n",
    "\n",
    "        return tokenized_sample\n",
    "\n",
    "    data_token = batch_samples.map(tokenization, batched=True)\n",
    "    print(\"Done tokenization\")\n",
    "    print(\"GPU memory allocated after tokenization\", torch.cuda.memory_allocated() / (1024 ** 3))\n",
    "    torch.cuda.empty_cache()\n",
    "    \n",
    "    # mapping inputs\n",
    "    def extract_hidden_state(batch, device=\"cpu\"):\n",
    "\n",
    "        # converting all tensor to same device( i use cpu as default because GPU_Ram is not enough)\n",
    "        model.to(device)\n",
    "        inputs = {k: v.to(device) for k, v in batch.items() if k in tokenizer.model_input_names}\n",
    "\n",
    "        # Retrieving last hidden state\n",
    "        with torch.no_grad():\n",
    "            last_hidden_state = model(**inputs).last_hidden_state\n",
    "\n",
    "        return {\"hidden_state\": last_hidden_state[:, 0]}\n",
    "\n",
    "    data_token.set_format(\"torch\", columns=[\"input_ids\", \"attention_mask\", \"label\"])\n",
    "    data_hidden = data_token.map(extract_hidden_state, batched=True)\n",
    "    print(\"Done with hidden state\")\n",
    "\n",
    "    return data_hidden"
   ]
  },
  {
   "cell_type": "code",
   "execution_count": 7,
   "id": "4a452bcb",
   "metadata": {},
   "outputs": [
    {
     "name": "stdout",
     "output_type": "stream",
     "text": [
      "GPU memory allocated before tokenization 0.1389598846435547\n"
     ]
    },
    {
     "data": {
      "application/vnd.jupyter.widget-view+json": {
       "model_id": "",
       "version_major": 2,
       "version_minor": 0
      },
      "text/plain": [
       "Map:   0%|          | 0/9 [00:00<?, ? examples/s]"
      ]
     },
     "metadata": {},
     "output_type": "display_data"
    },
    {
     "name": "stdout",
     "output_type": "stream",
     "text": [
      "Done tokenization\n",
      "GPU memory allocated after tokenization 0.1389598846435547\n"
     ]
    },
    {
     "data": {
      "application/vnd.jupyter.widget-view+json": {
       "model_id": "",
       "version_major": 2,
       "version_minor": 0
      },
      "text/plain": [
       "Map:   0%|          | 0/9 [00:00<?, ? examples/s]"
      ]
     },
     "metadata": {},
     "output_type": "display_data"
    },
    {
     "name": "stdout",
     "output_type": "stream",
     "text": [
      "Done with hidden state\n",
      "GPU memory allocated before tokenization 0.1389598846435547\n"
     ]
    },
    {
     "data": {
      "application/vnd.jupyter.widget-view+json": {
       "model_id": "",
       "version_major": 2,
       "version_minor": 0
      },
      "text/plain": [
       "Map:   0%|          | 0/9 [00:00<?, ? examples/s]"
      ]
     },
     "metadata": {},
     "output_type": "display_data"
    },
    {
     "name": "stdout",
     "output_type": "stream",
     "text": [
      "Done tokenization\n",
      "GPU memory allocated after tokenization 0.1389598846435547\n"
     ]
    },
    {
     "data": {
      "application/vnd.jupyter.widget-view+json": {
       "model_id": "",
       "version_major": 2,
       "version_minor": 0
      },
      "text/plain": [
       "Map:   0%|          | 0/9 [00:00<?, ? examples/s]"
      ]
     },
     "metadata": {},
     "output_type": "display_data"
    },
    {
     "name": "stdout",
     "output_type": "stream",
     "text": [
      "Done with hidden state\n"
     ]
    }
   ],
   "source": [
    "train = bert_hidden_state(train, labels_list)\n",
    "valid = bert_hidden_state(valid, labels_list)"
   ]
  },
  {
   "cell_type": "code",
   "execution_count": 8,
   "id": "072d15dc",
   "metadata": {},
   "outputs": [],
   "source": [
    "def hiddenState2FeatureMatrix(df) :\n",
    "    # Giving in input a dataset with \"hidden_state\" and \"label\" columns this function\n",
    "    # return a Feature Matrix X and a Label array y\n",
    "\n",
    "    # creating a features matrix\n",
    "    X = np.array(df[\"hidden_state\"])\n",
    "    y = np.array(df[\"label\"])\n",
    "\n",
    "    return X, y"
   ]
  },
  {
   "cell_type": "code",
   "execution_count": 9,
   "id": "4cabcaec",
   "metadata": {},
   "outputs": [],
   "source": [
    "x_train, y_train = hiddenState2FeatureMatrix(train)\n",
    "x_valid, y_valid = hiddenState2FeatureMatrix(valid)"
   ]
  },
  {
   "cell_type": "code",
   "execution_count": 10,
   "id": "d4391753",
   "metadata": {},
   "outputs": [],
   "source": [
    "def start_recording():\n",
    "    # Record the start time of a function\n",
    "    return time.time()\n",
    "\n",
    "def end_recording(start_time):\n",
    "    # Record the end time\n",
    "    end_time = time.time()\n",
    "\n",
    "    # Execution time in Minutes\n",
    "    execution_time = end_time - start_time\n",
    "    print(\"Execution Time:\", execution_time, \"seconds\")\n",
    "    print(\"Execution Time:\", (execution_time) / 60, \"minutes\")"
   ]
  },
  {
   "cell_type": "code",
   "execution_count": 11,
   "id": "dabc4cd1",
   "metadata": {},
   "outputs": [
    {
     "name": "stdout",
     "output_type": "stream",
     "text": [
      "Execution Time: 0.05444049835205078 seconds\n",
      "Execution Time: 0.0009073416392008463 minutes\n"
     ]
    },
    {
     "name": "stderr",
     "output_type": "stream",
     "text": [
      "C:\\ProgramData\\anaconda3\\lib\\site-packages\\sklearn\\linear_model\\_logistic.py:458: ConvergenceWarning: lbfgs failed to converge (status=1):\n",
      "STOP: TOTAL NO. of ITERATIONS REACHED LIMIT.\n",
      "\n",
      "Increase the number of iterations (max_iter) or scale the data as shown in:\n",
      "    https://scikit-learn.org/stable/modules/preprocessing.html\n",
      "Please also refer to the documentation for alternative solver options:\n",
      "    https://scikit-learn.org/stable/modules/linear_model.html#logistic-regression\n",
      "  n_iter_i = _check_optimize_result(\n"
     ]
    }
   ],
   "source": [
    "from sklearn.linear_model import LogisticRegression\n",
    "start = start_recording()\n",
    "# training softmax regression\n",
    "clf = LogisticRegression(random_state=0, multi_class=\"multinomial\").fit(x_train, y_train)\n",
    "y_pred = clf.predict(x_valid)\n",
    "\n",
    "end_recording(start)"
   ]
  },
  {
   "cell_type": "code",
   "execution_count": 12,
   "id": "902001dc",
   "metadata": {},
   "outputs": [
    {
     "ename": "ValueError",
     "evalue": "The number of FixedLocator locations (5), usually from a call to set_ticks, does not match the number of labels (10).",
     "output_type": "error",
     "traceback": [
      "\u001b[1;31m---------------------------------------------------------------------------\u001b[0m",
      "\u001b[1;31mValueError\u001b[0m                                Traceback (most recent call last)",
      "Cell \u001b[1;32mIn[12], line 14\u001b[0m\n\u001b[0;32m     11\u001b[0m     plt\u001b[38;5;241m.\u001b[39mshow()\n\u001b[0;32m     13\u001b[0m \u001b[38;5;66;03m# Confusion Matrix plot\u001b[39;00m\n\u001b[1;32m---> 14\u001b[0m \u001b[43mplot_confusion_matrix\u001b[49m\u001b[43m(\u001b[49m\u001b[43my_pred\u001b[49m\u001b[43m,\u001b[49m\u001b[43m \u001b[49m\u001b[43my_valid\u001b[49m\u001b[43m,\u001b[49m\u001b[43m \u001b[49m\u001b[43mlabels_list\u001b[49m\u001b[43m)\u001b[49m\n",
      "Cell \u001b[1;32mIn[12], line 9\u001b[0m, in \u001b[0;36mplot_confusion_matrix\u001b[1;34m(y_pred, y_true, labels_list)\u001b[0m\n\u001b[0;32m      7\u001b[0m fig, ax \u001b[38;5;241m=\u001b[39m plt\u001b[38;5;241m.\u001b[39msubplots(figsize\u001b[38;5;241m=\u001b[39m(\u001b[38;5;241m11\u001b[39m,\u001b[38;5;241m11\u001b[39m))\n\u001b[0;32m      8\u001b[0m disp \u001b[38;5;241m=\u001b[39m ConfusionMatrixDisplay(confusion_matrix\u001b[38;5;241m=\u001b[39mcm, display_labels \u001b[38;5;241m=\u001b[39m labels_list)\n\u001b[1;32m----> 9\u001b[0m \u001b[43mdisp\u001b[49m\u001b[38;5;241;43m.\u001b[39;49m\u001b[43mplot\u001b[49m\u001b[43m(\u001b[49m\u001b[43mcmap\u001b[49m\u001b[38;5;241;43m=\u001b[39;49m\u001b[38;5;124;43m\"\u001b[39;49m\u001b[38;5;124;43mBlues\u001b[39;49m\u001b[38;5;124;43m\"\u001b[39;49m\u001b[43m,\u001b[49m\u001b[43m \u001b[49m\u001b[43mvalues_format\u001b[49m\u001b[38;5;241;43m=\u001b[39;49m\u001b[38;5;124;43m\"\u001b[39;49m\u001b[38;5;124;43m.2f\u001b[39;49m\u001b[38;5;124;43m\"\u001b[39;49m\u001b[43m,\u001b[49m\u001b[43m \u001b[49m\u001b[43max\u001b[49m\u001b[38;5;241;43m=\u001b[39;49m\u001b[43max\u001b[49m\u001b[43m,\u001b[49m\u001b[43m \u001b[49m\u001b[43mcolorbar\u001b[49m\u001b[38;5;241;43m=\u001b[39;49m\u001b[43m \u001b[49m\u001b[38;5;28;43;01mFalse\u001b[39;49;00m\u001b[43m)\u001b[49m\n\u001b[0;32m     10\u001b[0m plt\u001b[38;5;241m.\u001b[39mtitle(\u001b[38;5;124m\"\u001b[39m\u001b[38;5;124mNormalized confusion Matrix\u001b[39m\u001b[38;5;124m\"\u001b[39m)\n\u001b[0;32m     11\u001b[0m plt\u001b[38;5;241m.\u001b[39mshow()\n",
      "File \u001b[1;32mC:\\ProgramData\\anaconda3\\lib\\site-packages\\sklearn\\metrics\\_plot\\confusion_matrix.py:181\u001b[0m, in \u001b[0;36mConfusionMatrixDisplay.plot\u001b[1;34m(self, include_values, cmap, xticks_rotation, values_format, ax, colorbar, im_kw, text_kw)\u001b[0m\n\u001b[0;32m    179\u001b[0m \u001b[38;5;28;01mif\u001b[39;00m colorbar:\n\u001b[0;32m    180\u001b[0m     fig\u001b[38;5;241m.\u001b[39mcolorbar(\u001b[38;5;28mself\u001b[39m\u001b[38;5;241m.\u001b[39mim_, ax\u001b[38;5;241m=\u001b[39max)\n\u001b[1;32m--> 181\u001b[0m \u001b[43max\u001b[49m\u001b[38;5;241;43m.\u001b[39;49m\u001b[43mset\u001b[49m\u001b[43m(\u001b[49m\n\u001b[0;32m    182\u001b[0m \u001b[43m    \u001b[49m\u001b[43mxticks\u001b[49m\u001b[38;5;241;43m=\u001b[39;49m\u001b[43mnp\u001b[49m\u001b[38;5;241;43m.\u001b[39;49m\u001b[43marange\u001b[49m\u001b[43m(\u001b[49m\u001b[43mn_classes\u001b[49m\u001b[43m)\u001b[49m\u001b[43m,\u001b[49m\n\u001b[0;32m    183\u001b[0m \u001b[43m    \u001b[49m\u001b[43myticks\u001b[49m\u001b[38;5;241;43m=\u001b[39;49m\u001b[43mnp\u001b[49m\u001b[38;5;241;43m.\u001b[39;49m\u001b[43marange\u001b[49m\u001b[43m(\u001b[49m\u001b[43mn_classes\u001b[49m\u001b[43m)\u001b[49m\u001b[43m,\u001b[49m\n\u001b[0;32m    184\u001b[0m \u001b[43m    \u001b[49m\u001b[43mxticklabels\u001b[49m\u001b[38;5;241;43m=\u001b[39;49m\u001b[43mdisplay_labels\u001b[49m\u001b[43m,\u001b[49m\n\u001b[0;32m    185\u001b[0m \u001b[43m    \u001b[49m\u001b[43myticklabels\u001b[49m\u001b[38;5;241;43m=\u001b[39;49m\u001b[43mdisplay_labels\u001b[49m\u001b[43m,\u001b[49m\n\u001b[0;32m    186\u001b[0m \u001b[43m    \u001b[49m\u001b[43mylabel\u001b[49m\u001b[38;5;241;43m=\u001b[39;49m\u001b[38;5;124;43m\"\u001b[39;49m\u001b[38;5;124;43mTrue label\u001b[39;49m\u001b[38;5;124;43m\"\u001b[39;49m\u001b[43m,\u001b[49m\n\u001b[0;32m    187\u001b[0m \u001b[43m    \u001b[49m\u001b[43mxlabel\u001b[49m\u001b[38;5;241;43m=\u001b[39;49m\u001b[38;5;124;43m\"\u001b[39;49m\u001b[38;5;124;43mPredicted label\u001b[39;49m\u001b[38;5;124;43m\"\u001b[39;49m\u001b[43m,\u001b[49m\n\u001b[0;32m    188\u001b[0m \u001b[43m\u001b[49m\u001b[43m)\u001b[49m\n\u001b[0;32m    190\u001b[0m ax\u001b[38;5;241m.\u001b[39mset_ylim((n_classes \u001b[38;5;241m-\u001b[39m \u001b[38;5;241m0.5\u001b[39m, \u001b[38;5;241m-\u001b[39m\u001b[38;5;241m0.5\u001b[39m))\n\u001b[0;32m    191\u001b[0m plt\u001b[38;5;241m.\u001b[39msetp(ax\u001b[38;5;241m.\u001b[39mget_xticklabels(), rotation\u001b[38;5;241m=\u001b[39mxticks_rotation)\n",
      "File \u001b[1;32mC:\\ProgramData\\anaconda3\\lib\\site-packages\\matplotlib\\artist.py:147\u001b[0m, in \u001b[0;36mArtist.__init_subclass__.<locals>.<lambda>\u001b[1;34m(self, **kwargs)\u001b[0m\n\u001b[0;32m    139\u001b[0m \u001b[38;5;28;01mif\u001b[39;00m \u001b[38;5;129;01mnot\u001b[39;00m \u001b[38;5;28mhasattr\u001b[39m(\u001b[38;5;28mcls\u001b[39m\u001b[38;5;241m.\u001b[39mset, \u001b[38;5;124m'\u001b[39m\u001b[38;5;124m_autogenerated_signature\u001b[39m\u001b[38;5;124m'\u001b[39m):\n\u001b[0;32m    140\u001b[0m     \u001b[38;5;66;03m# Don't overwrite cls.set if the subclass or one of its parents\u001b[39;00m\n\u001b[0;32m    141\u001b[0m     \u001b[38;5;66;03m# has defined a set method set itself.\u001b[39;00m\n\u001b[0;32m    142\u001b[0m     \u001b[38;5;66;03m# If there was no explicit definition, cls.set is inherited from\u001b[39;00m\n\u001b[0;32m    143\u001b[0m     \u001b[38;5;66;03m# the hierarchy of auto-generated set methods, which hold the\u001b[39;00m\n\u001b[0;32m    144\u001b[0m     \u001b[38;5;66;03m# flag _autogenerated_signature.\u001b[39;00m\n\u001b[0;32m    145\u001b[0m     \u001b[38;5;28;01mreturn\u001b[39;00m\n\u001b[1;32m--> 147\u001b[0m \u001b[38;5;28mcls\u001b[39m\u001b[38;5;241m.\u001b[39mset \u001b[38;5;241m=\u001b[39m \u001b[38;5;28;01mlambda\u001b[39;00m \u001b[38;5;28mself\u001b[39m, \u001b[38;5;241m*\u001b[39m\u001b[38;5;241m*\u001b[39mkwargs: Artist\u001b[38;5;241m.\u001b[39mset(\u001b[38;5;28mself\u001b[39m, \u001b[38;5;241m*\u001b[39m\u001b[38;5;241m*\u001b[39mkwargs)\n\u001b[0;32m    148\u001b[0m \u001b[38;5;28mcls\u001b[39m\u001b[38;5;241m.\u001b[39mset\u001b[38;5;241m.\u001b[39m\u001b[38;5;18m__name__\u001b[39m \u001b[38;5;241m=\u001b[39m \u001b[38;5;124m\"\u001b[39m\u001b[38;5;124mset\u001b[39m\u001b[38;5;124m\"\u001b[39m\n\u001b[0;32m    149\u001b[0m \u001b[38;5;28mcls\u001b[39m\u001b[38;5;241m.\u001b[39mset\u001b[38;5;241m.\u001b[39m\u001b[38;5;18m__qualname__\u001b[39m \u001b[38;5;241m=\u001b[39m \u001b[38;5;124mf\u001b[39m\u001b[38;5;124m\"\u001b[39m\u001b[38;5;132;01m{\u001b[39;00m\u001b[38;5;28mcls\u001b[39m\u001b[38;5;241m.\u001b[39m\u001b[38;5;18m__qualname__\u001b[39m\u001b[38;5;132;01m}\u001b[39;00m\u001b[38;5;124m.set\u001b[39m\u001b[38;5;124m\"\u001b[39m\n",
      "File \u001b[1;32mC:\\ProgramData\\anaconda3\\lib\\site-packages\\matplotlib\\artist.py:1231\u001b[0m, in \u001b[0;36mArtist.set\u001b[1;34m(self, **kwargs)\u001b[0m\n\u001b[0;32m   1227\u001b[0m \u001b[38;5;28;01mdef\u001b[39;00m \u001b[38;5;21mset\u001b[39m(\u001b[38;5;28mself\u001b[39m, \u001b[38;5;241m*\u001b[39m\u001b[38;5;241m*\u001b[39mkwargs):\n\u001b[0;32m   1228\u001b[0m     \u001b[38;5;66;03m# docstring and signature are auto-generated via\u001b[39;00m\n\u001b[0;32m   1229\u001b[0m     \u001b[38;5;66;03m# Artist._update_set_signature_and_docstring() at the end of the\u001b[39;00m\n\u001b[0;32m   1230\u001b[0m     \u001b[38;5;66;03m# module.\u001b[39;00m\n\u001b[1;32m-> 1231\u001b[0m     \u001b[38;5;28;01mreturn\u001b[39;00m \u001b[38;5;28;43mself\u001b[39;49m\u001b[38;5;241;43m.\u001b[39;49m\u001b[43m_internal_update\u001b[49m\u001b[43m(\u001b[49m\u001b[43mcbook\u001b[49m\u001b[38;5;241;43m.\u001b[39;49m\u001b[43mnormalize_kwargs\u001b[49m\u001b[43m(\u001b[49m\u001b[43mkwargs\u001b[49m\u001b[43m,\u001b[49m\u001b[43m \u001b[49m\u001b[38;5;28;43mself\u001b[39;49m\u001b[43m)\u001b[49m\u001b[43m)\u001b[49m\n",
      "File \u001b[1;32mC:\\ProgramData\\anaconda3\\lib\\site-packages\\matplotlib\\artist.py:1223\u001b[0m, in \u001b[0;36mArtist._internal_update\u001b[1;34m(self, kwargs)\u001b[0m\n\u001b[0;32m   1216\u001b[0m \u001b[38;5;28;01mdef\u001b[39;00m \u001b[38;5;21m_internal_update\u001b[39m(\u001b[38;5;28mself\u001b[39m, kwargs):\n\u001b[0;32m   1217\u001b[0m     \u001b[38;5;124;03m\"\"\"\u001b[39;00m\n\u001b[0;32m   1218\u001b[0m \u001b[38;5;124;03m    Update artist properties without prenormalizing them, but generating\u001b[39;00m\n\u001b[0;32m   1219\u001b[0m \u001b[38;5;124;03m    errors as if calling `set`.\u001b[39;00m\n\u001b[0;32m   1220\u001b[0m \n\u001b[0;32m   1221\u001b[0m \u001b[38;5;124;03m    The lack of prenormalization is to maintain backcompatibility.\u001b[39;00m\n\u001b[0;32m   1222\u001b[0m \u001b[38;5;124;03m    \"\"\"\u001b[39;00m\n\u001b[1;32m-> 1223\u001b[0m     \u001b[38;5;28;01mreturn\u001b[39;00m \u001b[38;5;28;43mself\u001b[39;49m\u001b[38;5;241;43m.\u001b[39;49m\u001b[43m_update_props\u001b[49m\u001b[43m(\u001b[49m\n\u001b[0;32m   1224\u001b[0m \u001b[43m        \u001b[49m\u001b[43mkwargs\u001b[49m\u001b[43m,\u001b[49m\u001b[43m \u001b[49m\u001b[38;5;124;43m\"\u001b[39;49m\u001b[38;5;132;43;01m{cls.__name__}\u001b[39;49;00m\u001b[38;5;124;43m.set() got an unexpected keyword argument \u001b[39;49m\u001b[38;5;124;43m\"\u001b[39;49m\n\u001b[0;32m   1225\u001b[0m \u001b[43m        \u001b[49m\u001b[38;5;124;43m\"\u001b[39;49m\u001b[38;5;132;43;01m{prop_name!r}\u001b[39;49;00m\u001b[38;5;124;43m\"\u001b[39;49m\u001b[43m)\u001b[49m\n",
      "File \u001b[1;32mC:\\ProgramData\\anaconda3\\lib\\site-packages\\matplotlib\\artist.py:1199\u001b[0m, in \u001b[0;36mArtist._update_props\u001b[1;34m(self, props, errfmt)\u001b[0m\n\u001b[0;32m   1196\u001b[0m             \u001b[38;5;28;01mif\u001b[39;00m \u001b[38;5;129;01mnot\u001b[39;00m callable(func):\n\u001b[0;32m   1197\u001b[0m                 \u001b[38;5;28;01mraise\u001b[39;00m \u001b[38;5;167;01mAttributeError\u001b[39;00m(\n\u001b[0;32m   1198\u001b[0m                     errfmt\u001b[38;5;241m.\u001b[39mformat(\u001b[38;5;28mcls\u001b[39m\u001b[38;5;241m=\u001b[39m\u001b[38;5;28mtype\u001b[39m(\u001b[38;5;28mself\u001b[39m), prop_name\u001b[38;5;241m=\u001b[39mk))\n\u001b[1;32m-> 1199\u001b[0m             ret\u001b[38;5;241m.\u001b[39mappend(\u001b[43mfunc\u001b[49m\u001b[43m(\u001b[49m\u001b[43mv\u001b[49m\u001b[43m)\u001b[49m)\n\u001b[0;32m   1200\u001b[0m \u001b[38;5;28;01mif\u001b[39;00m ret:\n\u001b[0;32m   1201\u001b[0m     \u001b[38;5;28mself\u001b[39m\u001b[38;5;241m.\u001b[39mpchanged()\n",
      "File \u001b[1;32mC:\\ProgramData\\anaconda3\\lib\\site-packages\\matplotlib\\axes\\_base.py:74\u001b[0m, in \u001b[0;36m_axis_method_wrapper.__set_name__.<locals>.wrapper\u001b[1;34m(self, *args, **kwargs)\u001b[0m\n\u001b[0;32m     73\u001b[0m \u001b[38;5;28;01mdef\u001b[39;00m \u001b[38;5;21mwrapper\u001b[39m(\u001b[38;5;28mself\u001b[39m, \u001b[38;5;241m*\u001b[39margs, \u001b[38;5;241m*\u001b[39m\u001b[38;5;241m*\u001b[39mkwargs):\n\u001b[1;32m---> 74\u001b[0m     \u001b[38;5;28;01mreturn\u001b[39;00m get_method(\u001b[38;5;28mself\u001b[39m)(\u001b[38;5;241m*\u001b[39margs, \u001b[38;5;241m*\u001b[39m\u001b[38;5;241m*\u001b[39mkwargs)\n",
      "File \u001b[1;32mC:\\ProgramData\\anaconda3\\lib\\site-packages\\matplotlib\\_api\\deprecation.py:297\u001b[0m, in \u001b[0;36mrename_parameter.<locals>.wrapper\u001b[1;34m(*args, **kwargs)\u001b[0m\n\u001b[0;32m    292\u001b[0m     warn_deprecated(\n\u001b[0;32m    293\u001b[0m         since, message\u001b[38;5;241m=\u001b[39m\u001b[38;5;124mf\u001b[39m\u001b[38;5;124m\"\u001b[39m\u001b[38;5;124mThe \u001b[39m\u001b[38;5;132;01m{\u001b[39;00mold\u001b[38;5;132;01m!r}\u001b[39;00m\u001b[38;5;124m parameter of \u001b[39m\u001b[38;5;132;01m{\u001b[39;00mfunc\u001b[38;5;241m.\u001b[39m\u001b[38;5;18m__name__\u001b[39m\u001b[38;5;132;01m}\u001b[39;00m\u001b[38;5;124m() \u001b[39m\u001b[38;5;124m\"\u001b[39m\n\u001b[0;32m    294\u001b[0m         \u001b[38;5;124mf\u001b[39m\u001b[38;5;124m\"\u001b[39m\u001b[38;5;124mhas been renamed \u001b[39m\u001b[38;5;132;01m{\u001b[39;00mnew\u001b[38;5;132;01m!r}\u001b[39;00m\u001b[38;5;124m since Matplotlib \u001b[39m\u001b[38;5;132;01m{\u001b[39;00msince\u001b[38;5;132;01m}\u001b[39;00m\u001b[38;5;124m; support \u001b[39m\u001b[38;5;124m\"\u001b[39m\n\u001b[0;32m    295\u001b[0m         \u001b[38;5;124mf\u001b[39m\u001b[38;5;124m\"\u001b[39m\u001b[38;5;124mfor the old name will be dropped %(removal)s.\u001b[39m\u001b[38;5;124m\"\u001b[39m)\n\u001b[0;32m    296\u001b[0m     kwargs[new] \u001b[38;5;241m=\u001b[39m kwargs\u001b[38;5;241m.\u001b[39mpop(old)\n\u001b[1;32m--> 297\u001b[0m \u001b[38;5;28;01mreturn\u001b[39;00m func(\u001b[38;5;241m*\u001b[39margs, \u001b[38;5;241m*\u001b[39m\u001b[38;5;241m*\u001b[39mkwargs)\n",
      "File \u001b[1;32mC:\\ProgramData\\anaconda3\\lib\\site-packages\\matplotlib\\axis.py:1973\u001b[0m, in \u001b[0;36mAxis.set_ticklabels\u001b[1;34m(self, labels, minor, fontdict, **kwargs)\u001b[0m\n\u001b[0;32m   1969\u001b[0m \u001b[38;5;28;01mif\u001b[39;00m \u001b[38;5;28misinstance\u001b[39m(locator, mticker\u001b[38;5;241m.\u001b[39mFixedLocator):\n\u001b[0;32m   1970\u001b[0m     \u001b[38;5;66;03m# Passing [] as a list of labels is often used as a way to\u001b[39;00m\n\u001b[0;32m   1971\u001b[0m     \u001b[38;5;66;03m# remove all tick labels, so only error for > 0 labels\u001b[39;00m\n\u001b[0;32m   1972\u001b[0m     \u001b[38;5;28;01mif\u001b[39;00m \u001b[38;5;28mlen\u001b[39m(locator\u001b[38;5;241m.\u001b[39mlocs) \u001b[38;5;241m!=\u001b[39m \u001b[38;5;28mlen\u001b[39m(labels) \u001b[38;5;129;01mand\u001b[39;00m \u001b[38;5;28mlen\u001b[39m(labels) \u001b[38;5;241m!=\u001b[39m \u001b[38;5;241m0\u001b[39m:\n\u001b[1;32m-> 1973\u001b[0m         \u001b[38;5;28;01mraise\u001b[39;00m \u001b[38;5;167;01mValueError\u001b[39;00m(\n\u001b[0;32m   1974\u001b[0m             \u001b[38;5;124m\"\u001b[39m\u001b[38;5;124mThe number of FixedLocator locations\u001b[39m\u001b[38;5;124m\"\u001b[39m\n\u001b[0;32m   1975\u001b[0m             \u001b[38;5;124mf\u001b[39m\u001b[38;5;124m\"\u001b[39m\u001b[38;5;124m (\u001b[39m\u001b[38;5;132;01m{\u001b[39;00m\u001b[38;5;28mlen\u001b[39m(locator\u001b[38;5;241m.\u001b[39mlocs)\u001b[38;5;132;01m}\u001b[39;00m\u001b[38;5;124m), usually from a call to\u001b[39m\u001b[38;5;124m\"\u001b[39m\n\u001b[0;32m   1976\u001b[0m             \u001b[38;5;124m\"\u001b[39m\u001b[38;5;124m set_ticks, does not match\u001b[39m\u001b[38;5;124m\"\u001b[39m\n\u001b[0;32m   1977\u001b[0m             \u001b[38;5;124mf\u001b[39m\u001b[38;5;124m\"\u001b[39m\u001b[38;5;124m the number of labels (\u001b[39m\u001b[38;5;132;01m{\u001b[39;00m\u001b[38;5;28mlen\u001b[39m(labels)\u001b[38;5;132;01m}\u001b[39;00m\u001b[38;5;124m).\u001b[39m\u001b[38;5;124m\"\u001b[39m)\n\u001b[0;32m   1978\u001b[0m     tickd \u001b[38;5;241m=\u001b[39m {loc: lab \u001b[38;5;28;01mfor\u001b[39;00m loc, lab \u001b[38;5;129;01min\u001b[39;00m \u001b[38;5;28mzip\u001b[39m(locator\u001b[38;5;241m.\u001b[39mlocs, labels)}\n\u001b[0;32m   1979\u001b[0m     func \u001b[38;5;241m=\u001b[39m functools\u001b[38;5;241m.\u001b[39mpartial(\u001b[38;5;28mself\u001b[39m\u001b[38;5;241m.\u001b[39m_format_with_dict, tickd)\n",
      "\u001b[1;31mValueError\u001b[0m: The number of FixedLocator locations (5), usually from a call to set_ticks, does not match the number of labels (10)."
     ]
    },
    {
     "data": {
      "image/png": "[encoded data removed]",
      "text/plain": [
       "<Figure size 1100x1100 with 1 Axes>"
      ]
     },
     "metadata": {},
     "output_type": "display_data"
    }
   ],
   "source": [
    "from sklearn.metrics import ConfusionMatrixDisplay, confusion_matrix\n",
    "import matplotlib.pyplot as plt\n",
    "\n",
    "#confusion matrix\n",
    "def plot_confusion_matrix(y_pred, y_true, labels_list):\n",
    "    cm = confusion_matrix(y_true, y_pred, normalize= \"true\")\n",
    "    fig, ax = plt.subplots(figsize=(11,11))\n",
    "    disp = ConfusionMatrixDisplay(confusion_matrix=cm, display_labels = labels_list)\n",
    "    disp.plot(cmap=\"Blues\", values_format=\".2f\", ax=ax, colorbar= False)\n",
    "    plt.title(\"Normalized confusion Matrix\")\n",
    "    plt.show()\n",
    "\n",
    "# Confusion Matrix plot\n",
    "plot_confusion_matrix(y_pred, y_valid, labels_list)"
   ]
  },
  {
   "cell_type": "code",
   "execution_count": 33,
   "id": "49a09fa6",
   "metadata": {},
   "outputs": [],
   "source": [
    "def save_model_pred(df, y_pred, file_name, eval_loss = False):\n",
    "    # This model save the dataset to csv file\n",
    "    # this function has been created for save validation dataset\n",
    "    # with validation prediction extra column\n",
    "    if (str(type(df)) == \"<class 'datasets.arrow_dataset.Dataset'>\"):\n",
    "        df = Dataset.to_pandas(df)\n",
    "    \n",
    "    if not(eval_loss == False):\n",
    "        df[\"loss\"] = eval_loss\n",
    "        print(\"enter\")\n",
    "\n",
    "    df[\"prediction\"] = y_pred\n",
    "    df.to_csv(file_name, index= False)\n",
    "    print(\"Dataframe saved to :\", file_name)\n",
    "    return df\n",
    "\n",
    "def samples_loss(model, prob_predictions, y_test):\n",
    "    loss_values = []\n",
    "    for i in range(len(y_test)):\n",
    "        sample_loss = log_loss([1 if j == y_test[i] else 0 for j in range(model.classes_.size)], prob_predictions[i])\n",
    "        loss_values.append(sample_loss)\n",
    "    return loss_values\n",
    "\n",
    "def df_sample_losses(df):\n",
    "    df = df[[\"text\", \"loss\", \"prediction\", \"label\"]]\n",
    "    print(\"\\n Sample with highest losses \\n\")\n",
    "    print(df.sort_values(\"loss\", ascending=False).head(10))\n",
    "    print(\"\\n\\n \")\n",
    "\n",
    "    print(\"\\n Sample with lowest losses \\n\")\n",
    "    print(df.sort_values(\"loss\", ascending=True).head(10))\n",
    "    print(\"\\n\\n \")"
   ]
  },
  {
   "cell_type": "code",
   "execution_count": 34,
   "id": "12e5c3e2",
   "metadata": {},
   "outputs": [
    {
     "name": "stdout",
     "output_type": "stream",
     "text": [
      "enter\n",
      "Dataframe saved to : model_pred.csv\n",
      "\n",
      " Sample with highest losses \n",
      "\n",
      "                                                text      loss  prediction  \\\n",
      "6  The appellants further submitted that 'it may ...  1.088190           0   \n",
      "1  The Victorian Supreme Court dismissed an appea...  0.621858           0   \n",
      "2  an objection to the production of documents in...  0.577438           0   \n",
      "7  form of injunctive order is quite specific. It...  0.542851           0   \n",
      "8  On 7 August 2007 I delivered a judgment (the '...  0.502913           2   \n",
      "3  the same case, Brennan J (at 84 85) and Dawson...  0.429261           5   \n",
      "4  Court also has an implied jurisdiction to set ...  0.333033           5   \n",
      "0  The High Court has ruled that the former manag...  0.284418           0   \n",
      "5  The decision of the Court of Appeal of Victori...  0.247928           0   \n",
      "\n",
      "   label  \n",
      "6      3  \n",
      "1      5  \n",
      "2      1  \n",
      "7      3  \n",
      "8      1  \n",
      "3      0  \n",
      "4      0  \n",
      "0      0  \n",
      "5      0  \n",
      "\n",
      "\n",
      " \n",
      "\n",
      " Sample with lowest losses \n",
      "\n",
      "                                                text      loss  prediction  \\\n",
      "5  The decision of the Court of Appeal of Victori...  0.247928           0   \n",
      "0  The High Court has ruled that the former manag...  0.284418           0   \n",
      "4  Court also has an implied jurisdiction to set ...  0.333033           5   \n",
      "3  the same case, Brennan J (at 84 85) and Dawson...  0.429261           5   \n",
      "8  On 7 August 2007 I delivered a judgment (the '...  0.502913           2   \n",
      "7  form of injunctive order is quite specific. It...  0.542851           0   \n",
      "2  an objection to the production of documents in...  0.577438           0   \n",
      "1  The Victorian Supreme Court dismissed an appea...  0.621858           0   \n",
      "6  The appellants further submitted that 'it may ...  1.088190           0   \n",
      "\n",
      "   label  \n",
      "5      0  \n",
      "0      0  \n",
      "4      0  \n",
      "3      0  \n",
      "8      1  \n",
      "7      3  \n",
      "2      1  \n",
      "1      5  \n",
      "6      3  \n",
      "\n",
      "\n",
      " \n"
     ]
    }
   ],
   "source": [
    "y_pred_prob = clf.predict_proba(x_valid)\n",
    "loss_sample = samples_loss(clf, y_pred_prob, y_valid)\n",
    "loss_df = save_model_pred(valid, y_pred, \"model_pred.csv\", loss_sample)\n",
    "df_sample_losses(loss_df) "
   ]
  }
 ],
 "metadata": {
  "kernelspec": {
   "display_name": "Python 3 (ipykernel)",
   "language": "python",
   "name": "python3"
  },
  "language_info": {
   "codemirror_mode": {
    "name": "ipython",
    "version": 3
   },
   "file_extension": ".py",
   "mimetype": "text/x-python",
   "name": "python",
   "nbconvert_exporter": "python",
   "pygments_lexer": "ipython3",
   "version": "3.10.9"
  }
 },
 "nbformat": 4,
 "nbformat_minor": 5
}
